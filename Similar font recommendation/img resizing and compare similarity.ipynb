{
 "cells": [
  {
   "cell_type": "markdown",
   "metadata": {},
   "source": [
    "\n",
    "### 라이브러리 로드"
   ]
  },
  {
   "cell_type": "code",
   "execution_count": 4,
   "metadata": {},
   "outputs": [],
   "source": [
    "import os\n",
    "import sys\n",
    "sys.path.append(\"C:/Users/SM/dir_/FontProject/_석사코드정리_학제간연구용/3. 유사폰트추천코드/img2vec/img2vec_pytorch\")  # Adds higher directory to python modules path.\n",
    "from img_to_vec import Img2Vec\n",
    "import pandas as pd\n",
    "from PIL import Image\n",
    "from sklearn.metrics.pairwise import cosine_similarity"
   ]
  },
  {
   "cell_type": "markdown",
   "metadata": {},
   "source": [
    "### 이미지 크기 다른 이미지간 유사도 비교"
   ]
  },
  {
   "cell_type": "markdown",
   "metadata": {},
   "source": [
    "#### ① 작은 이미지 특징벡터 추출"
   ]
  },
  {
   "cell_type": "code",
   "execution_count": 5,
   "metadata": {},
   "outputs": [
    {
     "name": "stdout",
     "output_type": "stream",
     "text": [
      "AdaptiveAvgPool2d(output_size=(1, 1))\n"
     ]
    },
    {
     "data": {
      "text/html": [
       "<div>\n",
       "<style scoped>\n",
       "    .dataframe tbody tr th:only-of-type {\n",
       "        vertical-align: middle;\n",
       "    }\n",
       "\n",
       "    .dataframe tbody tr th {\n",
       "        vertical-align: top;\n",
       "    }\n",
       "\n",
       "    .dataframe thead th {\n",
       "        text-align: right;\n",
       "    }\n",
       "</style>\n",
       "<table border=\"1\" class=\"dataframe\">\n",
       "  <thead>\n",
       "    <tr style=\"text-align: right;\">\n",
       "      <th></th>\n",
       "      <th>0</th>\n",
       "      <th>1</th>\n",
       "      <th>2</th>\n",
       "      <th>3</th>\n",
       "      <th>4</th>\n",
       "      <th>5</th>\n",
       "      <th>6</th>\n",
       "      <th>7</th>\n",
       "      <th>8</th>\n",
       "      <th>9</th>\n",
       "      <th>...</th>\n",
       "      <th>2038</th>\n",
       "      <th>2039</th>\n",
       "      <th>2040</th>\n",
       "      <th>2041</th>\n",
       "      <th>2042</th>\n",
       "      <th>2043</th>\n",
       "      <th>2044</th>\n",
       "      <th>2045</th>\n",
       "      <th>2046</th>\n",
       "      <th>2047</th>\n",
       "    </tr>\n",
       "  </thead>\n",
       "  <tbody>\n",
       "    <tr>\n",
       "      <th>0</th>\n",
       "      <td>0.068818</td>\n",
       "      <td>0.114611</td>\n",
       "      <td>0.0</td>\n",
       "      <td>0.046687</td>\n",
       "      <td>0.071957</td>\n",
       "      <td>0.0</td>\n",
       "      <td>0.259869</td>\n",
       "      <td>0.947744</td>\n",
       "      <td>0.077822</td>\n",
       "      <td>0.741072</td>\n",
       "      <td>...</td>\n",
       "      <td>0.440324</td>\n",
       "      <td>0.438626</td>\n",
       "      <td>0.0</td>\n",
       "      <td>0.293971</td>\n",
       "      <td>0.81203</td>\n",
       "      <td>0.0</td>\n",
       "      <td>0.394369</td>\n",
       "      <td>0.070585</td>\n",
       "      <td>0.003718</td>\n",
       "      <td>0.499972</td>\n",
       "    </tr>\n",
       "  </tbody>\n",
       "</table>\n",
       "<p>1 rows × 2048 columns</p>\n",
       "</div>"
      ],
      "text/plain": [
       "       0         1     2         3         4     5         6         7     \\\n",
       "0  0.068818  0.114611   0.0  0.046687  0.071957   0.0  0.259869  0.947744   \n",
       "\n",
       "       8         9     ...      2038      2039  2040      2041     2042  2043  \\\n",
       "0  0.077822  0.741072  ...  0.440324  0.438626   0.0  0.293971  0.81203   0.0   \n",
       "\n",
       "       2044      2045      2046      2047  \n",
       "0  0.394369  0.070585  0.003718  0.499972  \n",
       "\n",
       "[1 rows x 2048 columns]"
      ]
     },
     "execution_count": 5,
     "metadata": {},
     "output_type": "execute_result"
    }
   ],
   "source": [
    "img2vec =Img2Vec(model=\"inception\")\n",
    "\n",
    "small_img_input_path = 'C:/Users/SM/Desktop/2022-2 졸업프로젝트/Similar font recommendation/이미지 resize 유사도 확인/훈민정음(small).PNG'\n",
    "small_filename = os.fsdecode(small_img_input_path)\n",
    "small_img = Image.open(os.path.join(small_img_input_path, small_filename)).convert('RGB')\n",
    "small_img_vector = img2vec.get_vec(small_img)\n",
    "    \n",
    "small_img_vector_df = pd.DataFrame(small_img_vector).transpose()\n",
    "small_img_vector_df"
   ]
  },
  {
   "cell_type": "markdown",
   "metadata": {},
   "source": [
    "#### ② 큰 이미지 특징벡터 추출"
   ]
  },
  {
   "cell_type": "code",
   "execution_count": 6,
   "metadata": {},
   "outputs": [
    {
     "data": {
      "text/html": [
       "<div>\n",
       "<style scoped>\n",
       "    .dataframe tbody tr th:only-of-type {\n",
       "        vertical-align: middle;\n",
       "    }\n",
       "\n",
       "    .dataframe tbody tr th {\n",
       "        vertical-align: top;\n",
       "    }\n",
       "\n",
       "    .dataframe thead th {\n",
       "        text-align: right;\n",
       "    }\n",
       "</style>\n",
       "<table border=\"1\" class=\"dataframe\">\n",
       "  <thead>\n",
       "    <tr style=\"text-align: right;\">\n",
       "      <th></th>\n",
       "      <th>0</th>\n",
       "      <th>1</th>\n",
       "      <th>2</th>\n",
       "      <th>3</th>\n",
       "      <th>4</th>\n",
       "      <th>5</th>\n",
       "      <th>6</th>\n",
       "      <th>7</th>\n",
       "      <th>8</th>\n",
       "      <th>9</th>\n",
       "      <th>...</th>\n",
       "      <th>2038</th>\n",
       "      <th>2039</th>\n",
       "      <th>2040</th>\n",
       "      <th>2041</th>\n",
       "      <th>2042</th>\n",
       "      <th>2043</th>\n",
       "      <th>2044</th>\n",
       "      <th>2045</th>\n",
       "      <th>2046</th>\n",
       "      <th>2047</th>\n",
       "    </tr>\n",
       "  </thead>\n",
       "  <tbody>\n",
       "    <tr>\n",
       "      <th>0</th>\n",
       "      <td>0.070111</td>\n",
       "      <td>0.11524</td>\n",
       "      <td>0.005591</td>\n",
       "      <td>0.035897</td>\n",
       "      <td>0.073632</td>\n",
       "      <td>0.006783</td>\n",
       "      <td>0.121156</td>\n",
       "      <td>0.836014</td>\n",
       "      <td>0.034989</td>\n",
       "      <td>0.756727</td>\n",
       "      <td>...</td>\n",
       "      <td>0.578958</td>\n",
       "      <td>0.318507</td>\n",
       "      <td>0.0</td>\n",
       "      <td>0.508846</td>\n",
       "      <td>0.659259</td>\n",
       "      <td>0.0</td>\n",
       "      <td>0.416287</td>\n",
       "      <td>0.028048</td>\n",
       "      <td>0.0</td>\n",
       "      <td>0.348676</td>\n",
       "    </tr>\n",
       "  </tbody>\n",
       "</table>\n",
       "<p>1 rows × 2048 columns</p>\n",
       "</div>"
      ],
      "text/plain": [
       "       0        1         2         3         4         5         6     \\\n",
       "0  0.070111  0.11524  0.005591  0.035897  0.073632  0.006783  0.121156   \n",
       "\n",
       "       7         8         9     ...      2038      2039  2040      2041  \\\n",
       "0  0.836014  0.034989  0.756727  ...  0.578958  0.318507   0.0  0.508846   \n",
       "\n",
       "       2042  2043      2044      2045  2046      2047  \n",
       "0  0.659259   0.0  0.416287  0.028048   0.0  0.348676  \n",
       "\n",
       "[1 rows x 2048 columns]"
      ]
     },
     "execution_count": 6,
     "metadata": {},
     "output_type": "execute_result"
    }
   ],
   "source": [
    "big_img_input_path = 'C:/Users/SM/Desktop/2022-2 졸업프로젝트/Similar font recommendation/이미지 resize 유사도 확인/훈민정음(big).PNG'\n",
    "big_filename = os.fsdecode(big_img_input_path)\n",
    "big_img = Image.open(os.path.join(big_img_input_path, big_filename)).convert('RGB')\n",
    "big_img_vector = img2vec.get_vec(big_img)\n",
    "    \n",
    "big_img_vector_df = pd.DataFrame(big_img_vector).transpose()\n",
    "big_img_vector_df"
   ]
  },
  {
   "cell_type": "markdown",
   "metadata": {},
   "source": [
    "#### ③ 이미지간 유사도 비교"
   ]
  },
  {
   "cell_type": "code",
   "execution_count": 7,
   "metadata": {},
   "outputs": [
    {
     "data": {
      "text/plain": [
       "0.9518942"
      ]
     },
     "execution_count": 7,
     "metadata": {},
     "output_type": "execute_result"
    }
   ],
   "source": [
    "cosine_similarity(small_img_vector_df.values, big_img_vector_df.values)[0][0]"
   ]
  },
  {
   "cell_type": "markdown",
   "metadata": {},
   "source": [
    "### resize해서 이미지 유사도 비교"
   ]
  },
  {
   "cell_type": "markdown",
   "metadata": {},
   "source": [
    "#### ① 큰 이미지를 작은 이미지 크기에 맞춰 RESIZE"
   ]
  },
  {
   "cell_type": "code",
   "execution_count": 9,
   "metadata": {},
   "outputs": [],
   "source": [
    "img = Image.open('C:/Users/SM/Desktop/2022-2 졸업프로젝트/Similar font recommendation/이미지 resize 유사도 확인/훈민정음(big).PNG')\n",
    "\n",
    "img_resize = img.resize((178, 61))\n",
    "img_resize = img_resize.convert('RGB')\n",
    "# img_resize.save('img_big_resize.PNG', dpi=(120,120), format='PNG')"
   ]
  },
  {
   "cell_type": "code",
   "execution_count": 11,
   "metadata": {},
   "outputs": [
    {
     "data": {
      "text/html": [
       "<div>\n",
       "<style scoped>\n",
       "    .dataframe tbody tr th:only-of-type {\n",
       "        vertical-align: middle;\n",
       "    }\n",
       "\n",
       "    .dataframe tbody tr th {\n",
       "        vertical-align: top;\n",
       "    }\n",
       "\n",
       "    .dataframe thead th {\n",
       "        text-align: right;\n",
       "    }\n",
       "</style>\n",
       "<table border=\"1\" class=\"dataframe\">\n",
       "  <thead>\n",
       "    <tr style=\"text-align: right;\">\n",
       "      <th></th>\n",
       "      <th>0</th>\n",
       "      <th>1</th>\n",
       "      <th>2</th>\n",
       "      <th>3</th>\n",
       "      <th>4</th>\n",
       "      <th>5</th>\n",
       "      <th>6</th>\n",
       "      <th>7</th>\n",
       "      <th>8</th>\n",
       "      <th>9</th>\n",
       "      <th>...</th>\n",
       "      <th>2038</th>\n",
       "      <th>2039</th>\n",
       "      <th>2040</th>\n",
       "      <th>2041</th>\n",
       "      <th>2042</th>\n",
       "      <th>2043</th>\n",
       "      <th>2044</th>\n",
       "      <th>2045</th>\n",
       "      <th>2046</th>\n",
       "      <th>2047</th>\n",
       "    </tr>\n",
       "  </thead>\n",
       "  <tbody>\n",
       "    <tr>\n",
       "      <th>0</th>\n",
       "      <td>0.119969</td>\n",
       "      <td>0.096937</td>\n",
       "      <td>0.001014</td>\n",
       "      <td>0.034884</td>\n",
       "      <td>0.0</td>\n",
       "      <td>0.00363</td>\n",
       "      <td>0.144299</td>\n",
       "      <td>0.74538</td>\n",
       "      <td>0.080846</td>\n",
       "      <td>0.618304</td>\n",
       "      <td>...</td>\n",
       "      <td>0.367544</td>\n",
       "      <td>0.385816</td>\n",
       "      <td>0.0</td>\n",
       "      <td>0.19019</td>\n",
       "      <td>0.759745</td>\n",
       "      <td>0.0</td>\n",
       "      <td>0.269514</td>\n",
       "      <td>0.05015</td>\n",
       "      <td>0.013617</td>\n",
       "      <td>0.499452</td>\n",
       "    </tr>\n",
       "  </tbody>\n",
       "</table>\n",
       "<p>1 rows × 2048 columns</p>\n",
       "</div>"
      ],
      "text/plain": [
       "       0         1         2         3     4        5         6        7     \\\n",
       "0  0.119969  0.096937  0.001014  0.034884   0.0  0.00363  0.144299  0.74538   \n",
       "\n",
       "       8         9     ...      2038      2039  2040     2041      2042  2043  \\\n",
       "0  0.080846  0.618304  ...  0.367544  0.385816   0.0  0.19019  0.759745   0.0   \n",
       "\n",
       "       2044     2045      2046      2047  \n",
       "0  0.269514  0.05015  0.013617  0.499452  \n",
       "\n",
       "[1 rows x 2048 columns]"
      ]
     },
     "execution_count": 11,
     "metadata": {},
     "output_type": "execute_result"
    }
   ],
   "source": [
    "resize_img_input_path = 'C:/Users/SM/Desktop/2022-2 졸업프로젝트/Similar font recommendation/이미지 resize 유사도 확인/img_big_resize.PNG'\n",
    "resize_filename = os.fsdecode(resize_img_input_path)\n",
    "resize_img = Image.open(os.path.join(resize_img_input_path, resize_filename)).convert('RGB')\n",
    "resize_img_vector = img2vec.get_vec(resize_img)\n",
    "    \n",
    "resize_img_vector_df = pd.DataFrame(resize_img_vector).transpose()\n",
    "resize_img_vector_df"
   ]
  },
  {
   "cell_type": "markdown",
   "metadata": {},
   "source": [
    "#### ② 이미지간 유사도 비교"
   ]
  },
  {
   "cell_type": "code",
   "execution_count": 12,
   "metadata": {},
   "outputs": [
    {
     "data": {
      "text/plain": [
       "0.97248554"
      ]
     },
     "execution_count": 12,
     "metadata": {},
     "output_type": "execute_result"
    }
   ],
   "source": [
    "cosine_similarity(small_img_vector_df.values, resize_img_vector_df.values)[0][0]"
   ]
  },
  {
   "cell_type": "code",
   "execution_count": null,
   "metadata": {},
   "outputs": [],
   "source": []
  }
 ],
 "metadata": {
  "kernelspec": {
   "display_name": "Python 3.8.5 ('base')",
   "language": "python",
   "name": "python3"
  },
  "language_info": {
   "codemirror_mode": {
    "name": "ipython",
    "version": 3
   },
   "file_extension": ".py",
   "mimetype": "text/x-python",
   "name": "python",
   "nbconvert_exporter": "python",
   "pygments_lexer": "ipython3",
   "version": "3.8.5"
  },
  "orig_nbformat": 4,
  "vscode": {
   "interpreter": {
    "hash": "3d846d80525939fc67cf21a1222fcca1daba31c8fddd2ba1792ca86a1af098cb"
   }
  }
 },
 "nbformat": 4,
 "nbformat_minor": 2
}
